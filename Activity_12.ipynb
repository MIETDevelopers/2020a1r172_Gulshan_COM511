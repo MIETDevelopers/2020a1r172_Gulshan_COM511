{
 "cells": [
  {
   "cell_type": "markdown",
   "id": "6d6c7a36-e075-4ab1-9f42-4137a8e3360c",
   "metadata": {},
   "source": [
    "# Activity 12"
   ]
  },
  {
   "cell_type": "markdown",
   "id": "9ec9ba2b-5abc-45a6-b04d-8040077ff270",
   "metadata": {},
   "source": [
    "## Create a function max_of_three that takes three numbers as arguments and return the largest of them and also create a parameter function that checks whether a given number is Armstrong or not."
   ]
  },
  {
   "cell_type": "markdown",
   "id": "0a8f5100-f76b-46ca-902a-e7d748085acb",
   "metadata": {},
   "source": [
    "Fuction for finding the largest number"
   ]
  },
  {
   "cell_type": "code",
   "execution_count": 34,
   "id": "7020aa0e-3987-4056-8e56-1da52ac849b1",
   "metadata": {
    "tags": []
   },
   "outputs": [],
   "source": [
    "def max_of_three(a,b,c):\n",
    "    if a > b and a > c:\n",
    "        print('The number {} is the largest from the {} , {} and {}'.format(a,a,b,c))\n",
    "    elif b > c:\n",
    "        print('The number {} is the largest from the {} , {} and {}'.format(b,a,b,c))\n",
    "    else:\n",
    "        print('The number {} is the largest from the {} , {} and {}'.format(c,a,b,c))"
   ]
  },
  {
   "cell_type": "markdown",
   "id": "4662e8ca-7cbf-48bf-af72-a0bff6f16e34",
   "metadata": {},
   "source": [
    "Function to finding the armstrong number"
   ]
  },
  {
   "cell_type": "code",
   "execution_count": 35,
   "id": "9912629c-79bf-48bb-88ce-df455b80b8f4",
   "metadata": {},
   "outputs": [],
   "source": [
    "def extract(value):\n",
    "    number3 = value % 10\n",
    "    value = value // 10\n",
    "    number2 = value % 10\n",
    "    value = value // 10\n",
    "    number1 = value % 10\n",
    "    return number1,number2,number3;    "
   ]
  },
  {
   "cell_type": "code",
   "execution_count": 36,
   "id": "4613e5a2-9687-4951-95f0-28d2337988c8",
   "metadata": {},
   "outputs": [],
   "source": [
    "def parameter(val,a,b,c):\n",
    "    result = a**3+b**3+c**3\n",
    "    if val == result:\n",
    "        print('The Three number having value {} , {} and {} are Armstrong number'.format(a,b,c))\n",
    "    else:\n",
    "        print('The Three number having value {} , {} and {} are not Armstrong number'.format(a,b,c))"
   ]
  },
  {
   "cell_type": "markdown",
   "id": "f2623009-06ac-409e-8575-c1bc64dd9125",
   "metadata": {},
   "source": [
    "Intput "
   ]
  },
  {
   "cell_type": "code",
   "execution_count": 38,
   "id": "38c83d73-862e-4651-8a23-48b2b40050b3",
   "metadata": {
    "scrolled": false
   },
   "outputs": [
    {
     "name": "stdout",
     "output_type": "stream",
     "text": [
      "Enter number : 371\n",
      "The number 7 is the largest from the 3 , 7 and 1\n",
      "The Three number having value 3 , 7 and 1 are Armstrong number\n"
     ]
    }
   ],
   "source": [
    "number = int(input('Enter number : '))\n",
    "number1,number2,number3 = extract(number)\n",
    "max_of_three(number1,number2,number3)\n",
    "parameter(number,number1,number2,number3)"
   ]
  }
 ],
 "metadata": {
  "kernelspec": {
   "display_name": "Python 3 (ipykernel)",
   "language": "python",
   "name": "python3"
  },
  "language_info": {
   "codemirror_mode": {
    "name": "ipython",
    "version": 3
   },
   "file_extension": ".py",
   "mimetype": "text/x-python",
   "name": "python",
   "nbconvert_exporter": "python",
   "pygments_lexer": "ipython3",
   "version": "3.10.7"
  }
 },
 "nbformat": 4,
 "nbformat_minor": 5
}
