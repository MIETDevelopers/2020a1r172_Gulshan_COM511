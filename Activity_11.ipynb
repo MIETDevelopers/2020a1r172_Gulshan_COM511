{
 "cells": [
  {
   "cell_type": "markdown",
   "id": "378a63b2-c9d7-4c95-82df-383d6159a4ed",
   "metadata": {},
   "source": [
    "# Activity 11"
   ]
  },
  {
   "cell_type": "markdown",
   "id": "e403787b-1ed0-4404-929a-74061e04c8c8",
   "metadata": {},
   "source": [
    "## Write a Python program that accepts the length of three sides of a triangle as input. The program should indicate whether or not the triangle is a right-angled triangle. (Use Pythagorean theorem) Also find out its area using heron's formula "
   ]
  },
  {
   "cell_type": "markdown",
   "id": "782e13f4-d31d-4905-ad88-4892408184a1",
   "metadata": {},
   "source": [
    "Find whether triangle is a right-angle triangle or NOT"
   ]
  },
  {
   "cell_type": "code",
   "execution_count": 44,
   "id": "a32668e9-722f-48b1-90c4-11c9bbc803f0",
   "metadata": {},
   "outputs": [],
   "source": [
    "def right_angle(a,b,c):\n",
    "    if a**2 == b**2+c**2:\n",
    "        print('The triangle having Hypotenuse = {} , Perpendicular = {} and Base = {} is a right angle triangle'.format(a,b,c))\n",
    "        area(a,b,c)\n",
    "    else:\n",
    "        print('The triangle having Hypotenuse = {} , Perpendicular = {} and Base = {} is not a right angle triangle'.format(a,b,c))\n",
    "    "
   ]
  },
  {
   "cell_type": "markdown",
   "id": "342bf680-0cb2-4a0e-98a0-ab720e018175",
   "metadata": {},
   "source": [
    "Calculate the Area of the triangle"
   ]
  },
  {
   "cell_type": "code",
   "execution_count": 45,
   "id": "a89e8ac5-ab4c-4692-b411-b9998405eca1",
   "metadata": {},
   "outputs": [],
   "source": [
    "import math \n",
    "def area(a,b,c):\n",
    "    s = (a+b+c)/2\n",
    "    res =s*(s-a)*(s-b)*(s-c)\n",
    "    res=math.sqrt(res)\n",
    "    print('The Area of triangle having Hypotenuse = {} , Perpendicular = {} and Base = {} is Area = {}'.format(a,b,c,res))"
   ]
  },
  {
   "cell_type": "markdown",
   "id": "3baef906-2cac-4978-8a36-49dc398db5e6",
   "metadata": {},
   "source": [
    "Insert The Values"
   ]
  },
  {
   "cell_type": "code",
   "execution_count": 46,
   "id": "8610965d-cee0-4fb0-9a7c-c460209f11ef",
   "metadata": {},
   "outputs": [
    {
     "name": "stdin",
     "output_type": "stream",
     "text": [
      "Enter Hypotenuse of the triangle 10\n",
      "Enter Perpendicular of the triangle 6\n",
      "Enter Base of the triangle 8\n"
     ]
    },
    {
     "name": "stdout",
     "output_type": "stream",
     "text": [
      "The triangle having Hypotenuse = 10.0 , Perpendicular = 6.0 and Base = 8.0 is a right angle triangle\n",
      "The Area of triangle having Hypotenuse = 10.0 , Perpendicular = 6.0 and Base = 8.0 is Area = 24.0\n"
     ]
    }
   ],
   "source": [
    "hy = float(input('Enter Hypotenuse of the triangle'))\n",
    "pr = float(input('Enter Perpendicular of the triangle'))\n",
    "bs = float(input('Enter Base of the triangle'))\n",
    "right_angle(hy,pr,bs)"
   ]
  },
  {
   "cell_type": "code",
   "execution_count": null,
   "id": "0c60e1ba-3402-4ec4-b46a-07bcb700929e",
   "metadata": {},
   "outputs": [],
   "source": []
  }
 ],
 "metadata": {
  "kernelspec": {
   "display_name": "Python 3 (ipykernel)",
   "language": "python",
   "name": "python3"
  },
  "language_info": {
   "codemirror_mode": {
    "name": "ipython",
    "version": 3
   },
   "file_extension": ".py",
   "mimetype": "text/x-python",
   "name": "python",
   "nbconvert_exporter": "python",
   "pygments_lexer": "ipython3",
   "version": "3.10.6"
  }
 },
 "nbformat": 4,
 "nbformat_minor": 5
}
