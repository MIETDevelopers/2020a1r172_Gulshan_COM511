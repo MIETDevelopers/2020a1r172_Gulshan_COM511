{
 "cells": [
  {
   "cell_type": "markdown",
   "metadata": {},
   "source": [
    "# Activity 8"
   ]
  },
  {
   "cell_type": "markdown",
   "metadata": {},
   "source": [
    "### Write a python program to convert temperature to and from Celsius to Fahrenheit."
   ]
  },
  {
   "cell_type": "code",
   "execution_count": 1,
   "metadata": {
    "scrolled": true
   },
   "outputs": [
    {
     "name": "stdout",
     "output_type": "stream",
     "text": [
      "40.00 Celsius is equivalent to: 104.00 Fahrenheit\n"
     ]
    }
   ],
   "source": [
    "celsius = 40\n",
    "fahrenheit = (celsius*1.8)+32\n",
    "print('%.2f Celsius is equivalent to: %.2f Fahrenheit' %(celsius,fahrenheit))"
   ]
  },
  {
   "cell_type": "markdown",
   "metadata": {},
   "source": [
    "Second taking Input from user"
   ]
  },
  {
   "cell_type": "code",
   "execution_count": 3,
   "metadata": {},
   "outputs": [
    {
     "name": "stdout",
     "output_type": "stream",
     "text": [
      "Enter the temperature: 20\n",
      "20.00 Celsius is equivalent to: 68.00 Fahrenheit\n"
     ]
    }
   ],
   "source": [
    "celsius = int(input(\"Enter the temperature: \"))\n",
    "fahrenheit = (celsius*1.8)+32\n",
    "print('%.2f Celsius is equivalent to: %.2f Fahrenheit' %(celsius,fahrenheit))"
   ]
  },
  {
   "cell_type": "markdown",
   "metadata": {},
   "source": [
    "### Converting the given program from statement to function for Celsius to Fahrenheit conversion."
   ]
  },
  {
   "cell_type": "code",
   "execution_count": 4,
   "metadata": {},
   "outputs": [
    {
     "name": "stdout",
     "output_type": "stream",
     "text": [
      "Enter the temperature in Celsius: 40\n",
      "Temperature in Celsius = 40.00\n",
      "Temperature in Fahrenheit = 104.00\n"
     ]
    }
   ],
   "source": [
    "def Convert_CtoF(C):\n",
    "    F=(C*1.8)+32\n",
    "    return F\n",
    "\n",
    "C=float(input(\"Enter the temperature in Celsius: \"))\n",
    "print(\"Temperature in Celsius = {:.2f}\" .format(C))\n",
    "print(\"Temperature in Fahrenheit = {:.2f}\".format(Convert_CtoF(C)))"
   ]
  },
  {
   "cell_type": "markdown",
   "metadata": {},
   "source": [
    "### Converting the given program from statement to function for Fahrenheit to Celsius conversion."
   ]
  },
  {
   "cell_type": "code",
   "execution_count": 5,
   "metadata": {},
   "outputs": [
    {
     "name": "stdout",
     "output_type": "stream",
     "text": [
      "Enter the temperature in Fahrenheit: 104\n",
      "Temperature in Celsius = 104.00\n",
      "Temperature in Fahrenheit = 40.00\n"
     ]
    }
   ],
   "source": [
    "def Convert_FtoC(F):\n",
    "    C=(5/9)*(F-32)\n",
    "    return C\n",
    "\n",
    "F=float(input(\"Enter the temperature in Fahrenheit: \"))\n",
    "print(\"Temperature in Celsius = {:.2f}\" .format(F))\n",
    "print(\"Temperature in Fahrenheit = {:.2f}\".format(Convert_FtoC(F)))"
   ]
  }
 ],
 "metadata": {
  "kernelspec": {
   "display_name": "Python 3",
   "language": "python",
   "name": "python3"
  },
  "language_info": {
   "codemirror_mode": {
    "name": "ipython",
    "version": 3
   },
   "file_extension": ".py",
   "mimetype": "text/x-python",
   "name": "python",
   "nbconvert_exporter": "python",
   "pygments_lexer": "ipython3",
   "version": "3.7.3"
  }
 },
 "nbformat": 4,
 "nbformat_minor": 2
}
