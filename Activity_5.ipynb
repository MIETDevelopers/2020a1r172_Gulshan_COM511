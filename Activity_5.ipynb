{
 "cells": [
  {
   "cell_type": "markdown",
   "id": "fa584edc",
   "metadata": {},
   "source": [
    "Write a program to reverse every kth row in a matrix.\n"
   ]
  },
  {
   "cell_type": "markdown",
   "id": "feee64b6",
   "metadata": {},
   "source": [
    "Method 1: Using reversed() and loop"
   ]
  },
  {
   "cell_type": "code",
   "execution_count": 1,
   "id": "7e8d787d",
   "metadata": {},
   "outputs": [
    {
     "name": "stdout",
     "output_type": "stream",
     "text": [
      "The original list is : [[5, 3, 2], [8, 6, 3], [3, 5, 2], [3, 6], [3, 7, 4], [2, 9]]\n",
      "After reversing every Kth row: [[5, 3, 2], [8, 6, 3], [2, 5, 3], [3, 6], [3, 7, 4], [9, 2]]\n"
     ]
    }
   ],
   "source": [
    "test_list = [[5, 3, 2], [8, 6, 3], [3, 5, 2],\n",
    "             [3, 6], [3, 7, 4], [2, 9]]\n",
    "print(\"The original list is : \" + str(test_list))\n",
    "k=3\n",
    "res=[]\n",
    "for idx, ele in enumerate(test_list):\n",
    "    if(idx+1)%k==0:\n",
    "        res.append(list(reversed(ele)))\n",
    "    else:\n",
    "        res.append(ele)\n",
    "print(\"After reversing every Kth row: \" + str(res))"
   ]
  },
  {
   "cell_type": "markdown",
   "id": "5a7a289b",
   "metadata": {},
   "source": [
    "Method 2: Using Slicing and list comprehension"
   ]
  },
  {
   "cell_type": "code",
   "execution_count": 2,
   "id": "77317ef2",
   "metadata": {},
   "outputs": [
    {
     "name": "stdout",
     "output_type": "stream",
     "text": [
      "The original list is : [[5, 3, 2], [8, 6, 3], [3, 5, 2], [3, 6], [3, 7, 4], [2, 9]]\n",
      "After reversing every Kth row: [[5, 3, 2], [8, 6, 3], [2, 5, 3], [3, 6], [3, 7, 4], [9, 2]]\n"
     ]
    }
   ],
   "source": [
    "test_list = [[5, 3, 2], [8, 6, 3], [3, 5, 2],\n",
    "             [3, 6], [3, 7, 4], [2, 9]]\n",
    "print(\"The original list is : \" + str(test_list))\n",
    "k=3\n",
    "res = [ele[::-1] if (idx + 1) % k == 0 else ele for idx,\n",
    "       ele in enumerate(test_list)]\n",
    "print(\"After reversing every Kth row: \" + str(res))"
   ]
  }
 ],
 "metadata": {
  "kernelspec": {
   "display_name": "Python 3.10.6 64-bit (microsoft store)",
   "language": "python",
   "name": "python3"
  },
  "language_info": {
   "codemirror_mode": {
    "name": "ipython",
    "version": 3
   },
   "file_extension": ".py",
   "mimetype": "text/x-python",
   "name": "python",
   "nbconvert_exporter": "python",
   "pygments_lexer": "ipython3",
   "version": "3.10.7"
  },
  "vscode": {
   "interpreter": {
    "hash": "63c4bce666f4525e7fc08fed3c70c5843d9642e8580b5cb9802d8f1792020792"
   }
  }
 },
 "nbformat": 4,
 "nbformat_minor": 5
}
