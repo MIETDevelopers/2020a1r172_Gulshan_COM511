{
 "cells": [
  {
   "cell_type": "markdown",
   "id": "b1556ce9",
   "metadata": {},
   "source": [
    "Count the number of alphabets in the given string"
   ]
  },
  {
   "cell_type": "code",
   "execution_count": 1,
   "id": "90e15083",
   "metadata": {},
   "outputs": [
    {
     "name": "stdout",
     "output_type": "stream",
     "text": [
      "The original string is : the world is a beautiful place 100 percent\n",
      "Count of Alphabets :32\n"
     ]
    }
   ],
   "source": [
    "# initializing string\n",
    "test_str = \"the world is a beautiful place 100 percent\"\n",
    "print(\"The original string is : \" + str(test_str))\n",
    "# isalpha() to computation of Alphabets\n",
    "res = len([l for l in test_str if l.isalpha()])\n",
    "# printing result\n",
    "print(\"Count of Alphabets :\"+ str(res))"
   ]
  },
  {
   "cell_type": "code",
   "execution_count": 1,
   "id": "f3776aa7",
   "metadata": {},
   "outputs": [
    {
     "name": "stdout",
     "output_type": "stream",
     "text": [
      "The original string is : Hello MY Name is Gulshan Sharma born on 15/10/2002\n",
      "Count of Alphabets : 32\n"
     ]
    }
   ],
   "source": [
    "import string\n",
    " # initializing string\n",
    "test_str = \"Hello MY Name is Gulshan Sharma born on 15/10/2002\"\n",
    "print(\"The original string is : \" + str(test_str))\n",
    "res = len([ele for ele in test_str if ele in string.ascii_uppercase or ele in string.ascii_lowercase]) \n",
    "print(\"Count of Alphabets : \" + str(res))"
   ]
  },
  {
   "cell_type": "markdown",
   "id": "b28a186c",
   "metadata": {},
   "source": [
    "To extract characters in the given, range from the given string."
   ]
  },
  {
   "cell_type": "code",
   "execution_count": 2,
   "id": "e05139d8",
   "metadata": {},
   "outputs": [
    {
     "name": "stdout",
     "output_type": "stream",
     "text": [
      "The original list is : ['geeksforgeeks', 'is', 'best', 'for', 'geeks']\n",
      "Range characters : eksisbestforgeeks\n"
     ]
    }
   ],
   "source": [
    "test_list = [\"geeksforgeeks\", \"is\", \"best\", \"for\", \"geeks\"]\n",
    "print(\"The original list is : \" + str(test_list))\n",
    "strt, end = 10, 30\n",
    "res = ''.join([s for s in test_list])[strt : end]\n",
    "# printing result\n",
    "print(\"Range characters : \" + str(res))"
   ]
  },
  {
   "cell_type": "markdown",
   "id": "588bfaaa",
   "metadata": {},
   "source": [
    "Check if the string is alphanumeric or not."
   ]
  },
  {
   "cell_type": "code",
   "execution_count": 4,
   "id": "fe39e29c",
   "metadata": {},
   "outputs": [
    {
     "name": "stdout",
     "output_type": "stream",
     "text": [
      "abc 123 is alphanumeric? False\n"
     ]
    }
   ],
   "source": [
    "string = \"abc 123\"\n",
    "print(string, \"is alphanumeric?\", string.isalnum())"
   ]
  },
  {
   "cell_type": "code",
   "execution_count": 5,
   "id": "feb71056",
   "metadata": {},
   "outputs": [
    {
     "name": "stdout",
     "output_type": "stream",
     "text": [
      "abc_123 is alphanumeric? False\n"
     ]
    }
   ],
   "source": [
    "string = \"abc_123\"\n",
    "print(string, \"is alphanumeric?\", string.isalnum())"
   ]
  },
  {
   "cell_type": "code",
   "execution_count": 6,
   "id": "f2bce56a",
   "metadata": {},
   "outputs": [
    {
     "name": "stdout",
     "output_type": "stream",
     "text": [
      "Password is alphanumeric.\n"
     ]
    }
   ],
   "source": [
    "password = \"user123456\"\n",
    "if password.isalnum():\n",
    " print(\"Password is alphanumeric.\")\n",
    "else:\n",
    " print(\"Password is not alphanumeric.\")"
   ]
  }
 ],
 "metadata": {
  "kernelspec": {
   "display_name": "Python 3.10.6 64-bit (microsoft store)",
   "language": "python",
   "name": "python3"
  },
  "language_info": {
   "codemirror_mode": {
    "name": "ipython",
    "version": 3
   },
   "file_extension": ".py",
   "mimetype": "text/x-python",
   "name": "python",
   "nbconvert_exporter": "python",
   "pygments_lexer": "ipython3",
   "version": "3.10.6"
  },
  "vscode": {
   "interpreter": {
    "hash": "63c4bce666f4525e7fc08fed3c70c5843d9642e8580b5cb9802d8f1792020792"
   }
  }
 },
 "nbformat": 4,
 "nbformat_minor": 5
}
