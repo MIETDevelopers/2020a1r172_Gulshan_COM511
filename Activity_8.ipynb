{
 "cells": [
  {
   "cell_type": "markdown",
   "id": "a4643b32",
   "metadata": {},
   "source": [
    "Write a program to create a list of student’s records and search a student record\n",
    "using a dictionary."
   ]
  },
  {
   "cell_type": "code",
   "execution_count": 1,
   "id": "ff9de705",
   "metadata": {},
   "outputs": [
    {
     "name": "stdout",
     "output_type": "stream",
     "text": [
      "1 Gulshan 99.0\n",
      "All students who scored more that 60 percentage are : \n",
      "1 Gulshan 99.0\n",
      "2 Mayank 99.0\n"
     ]
    }
   ],
   "source": [
    "class Student:\n",
    "    def GetStudent(self):\n",
    "        self.__rollno = input(\"Enter Roll No:\")\n",
    "        self.__name = input(\"Enter Name:\")\n",
    "        self.__physicsMarks = int(input(\"Enter Physics Marks:\"))\n",
    "        self.__chemistyMarks = int(input(\"Enter Chemistry Marks:\"))\n",
    "        self.__mathMarks = int(input(\"Enter Maths Marks:\"))\n",
    "        return(self.__rollno)\n",
    "\n",
    "    def PutStudent(self):\n",
    "        print(self.__rollno,self.__name,((self.__physicsMarks+self.__chemistyMarks+self.__mathMarks)/3))\n",
    "\n",
    "    def Search(self,min,max):\n",
    "        per = (self.__physicsMarks+self.__mathMarks+self.__chemistyMarks)/3\n",
    "        if(per>=min and per<=max):\n",
    "            return True\n",
    "        else:\n",
    "            return False\n",
    "\n",
    "studentDict = dict()\n",
    "n = int(input(\"How Many Students you Want To Input?\"))\n",
    "for i in range(n):\n",
    "    S = Student()\n",
    "    rollno = S.GetStudent()\n",
    "    studentDict.setdefault(rollno,S)\n",
    "\n",
    "rollno = input(\"Enter Roll Number you Want Search?\")\n",
    "S = studentDict.get(rollno,\"Not Found!\")\n",
    "if(isinstance(S,Student)):\n",
    "    S.PutStudent()\n",
    "else:\n",
    "    print(S)\n",
    "\n",
    "print(\"All students who scored more that 60 percentage are : \")\n",
    "gradeAStudent = list(filter(lambda s:s.Search(60,100),studentDict.values()))\n",
    "if(len(gradeAStudent) == 0):\n",
    "    print(\"Record Not Found!\")\n",
    "else:\n",
    "    for S in gradeAStudent:\n",
    "        S.PutStudent()"
   ]
  }
 ],
 "metadata": {
  "kernelspec": {
   "display_name": "Python 3.10.6 64-bit (microsoft store)",
   "language": "python",
   "name": "python3"
  },
  "language_info": {
   "codemirror_mode": {
    "name": "ipython",
    "version": 3
   },
   "file_extension": ".py",
   "mimetype": "text/x-python",
   "name": "python",
   "nbconvert_exporter": "python",
   "pygments_lexer": "ipython3",
   "version": "3.10.7"
  },
  "vscode": {
   "interpreter": {
    "hash": "63c4bce666f4525e7fc08fed3c70c5843d9642e8580b5cb9802d8f1792020792"
   }
  }
 },
 "nbformat": 4,
 "nbformat_minor": 5
}
