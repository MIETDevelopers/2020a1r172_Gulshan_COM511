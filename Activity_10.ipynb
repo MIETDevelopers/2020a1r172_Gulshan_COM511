{
 "cells": [
  {
   "cell_type": "markdown",
   "id": "bf9ce62e",
   "metadata": {},
   "source": [
    "# Activity 10 "
   ]
  },
  {
   "cell_type": "markdown",
   "id": "e41e5c58",
   "metadata": {},
   "source": [
    "### Write a program to create a Simple Calculator using a switch case and function for every operation."
   ]
  },
  {
   "cell_type": "markdown",
   "id": "48510959",
   "metadata": {},
   "source": [
    "#### Calculation Functions"
   ]
  },
  {
   "cell_type": "code",
   "execution_count": 16,
   "id": "50ca4934",
   "metadata": {},
   "outputs": [],
   "source": [
    "def add(num1,num2):\n",
    "    return num1+num2\n",
    "def sub(num1,num2):\n",
    "    return num1-num2\n",
    "def multiply(num1,num2):\n",
    "    return num1*num2\n",
    "def divide(num1,num2):\n",
    "    return num1/num2"
   ]
  },
  {
   "cell_type": "markdown",
   "id": "7395b763",
   "metadata": {},
   "source": [
    "#### Switch Case"
   ]
  },
  {
   "cell_type": "code",
   "execution_count": 17,
   "id": "f23efc35",
   "metadata": {},
   "outputs": [],
   "source": [
    "def process(op,num1,num2):\n",
    "    if(op=='+'):\n",
    "        return add(num1,num2)\n",
    "    elif(op=='-'):\n",
    "        return sub(num1,num2)\n",
    "    elif(op=='*'):\n",
    "        return multiply(num1,num2)\n",
    "    elif(op=='/'):\n",
    "        return divide(num1,num2)\n",
    "    else:\n",
    "        print('Operation does not exist')"
   ]
  },
  {
   "cell_type": "markdown",
   "id": "2bc6216f",
   "metadata": {},
   "source": [
    "#### Dynamic Entry"
   ]
  },
  {
   "cell_type": "code",
   "execution_count": 18,
   "id": "4e0761cb",
   "metadata": {},
   "outputs": [
    {
     "name": "stdout",
     "output_type": "stream",
     "text": [
      "Enter number 1: 1\n",
      "Enter operation: +\n",
      "Enter number 2: 2\n"
     ]
    },
    {
     "data": {
      "text/plain": [
       "3"
      ]
     },
     "execution_count": 18,
     "metadata": {},
     "output_type": "execute_result"
    }
   ],
   "source": [
    "num1=int(input('Enter number 1: '))\n",
    "op=input('Enter operation: ')\n",
    "num2=int(input('Enter number 2: '))\n",
    "process(op,num1,num2)"
   ]
  },
  {
   "cell_type": "markdown",
   "id": "727e5399",
   "metadata": {},
   "source": [
    "#### Static Entry"
   ]
  },
  {
   "cell_type": "markdown",
   "id": "ae40d751",
   "metadata": {},
   "source": [
    "#### Example 1: Addition of two numbers"
   ]
  },
  {
   "cell_type": "code",
   "execution_count": 19,
   "id": "550f181e",
   "metadata": {},
   "outputs": [
    {
     "data": {
      "text/plain": [
       "22"
      ]
     },
     "execution_count": 19,
     "metadata": {},
     "output_type": "execute_result"
    }
   ],
   "source": [
    "num1=int(10)\n",
    "op='+'\n",
    "num2=int(12)\n",
    "process(op,num1,num2)"
   ]
  },
  {
   "cell_type": "markdown",
   "id": "eafeac48",
   "metadata": {},
   "source": [
    "#### Example 2: Subtraction of two numbers"
   ]
  },
  {
   "cell_type": "code",
   "execution_count": 20,
   "id": "846327ab",
   "metadata": {
    "scrolled": true
   },
   "outputs": [
    {
     "data": {
      "text/plain": [
       "-2"
      ]
     },
     "execution_count": 20,
     "metadata": {},
     "output_type": "execute_result"
    }
   ],
   "source": [
    "num1=int(10)\n",
    "op='-'\n",
    "num2=int(12)\n",
    "process(op,num1,num2)"
   ]
  },
  {
   "cell_type": "markdown",
   "id": "0481e4db",
   "metadata": {},
   "source": [
    "#### Example 3: Multiplication of two numbers"
   ]
  },
  {
   "cell_type": "code",
   "execution_count": 21,
   "id": "47324d45",
   "metadata": {
    "scrolled": false
   },
   "outputs": [
    {
     "data": {
      "text/plain": [
       "50"
      ]
     },
     "execution_count": 21,
     "metadata": {},
     "output_type": "execute_result"
    }
   ],
   "source": [
    "num1=int(10)\n",
    "op='*'\n",
    "num2=int(5)\n",
    "process(op,num1,num2)"
   ]
  },
  {
   "cell_type": "markdown",
   "id": "dba03dc7",
   "metadata": {},
   "source": [
    "#### Example 4: Division of two numbers"
   ]
  },
  {
   "cell_type": "code",
   "execution_count": 23,
   "id": "5913c10b",
   "metadata": {},
   "outputs": [
    {
     "data": {
      "text/plain": [
       "10.0"
      ]
     },
     "execution_count": 23,
     "metadata": {},
     "output_type": "execute_result"
    }
   ],
   "source": [
    "num1=int(50)\n",
    "op='/'\n",
    "num2=int(5)\n",
    "process(op,num1,num2)"
   ]
  }
 ],
 "metadata": {
  "kernelspec": {
   "display_name": "Python 3 (ipykernel)",
   "language": "python",
   "name": "python3"
  },
  "language_info": {
   "codemirror_mode": {
    "name": "ipython",
    "version": 3
   },
   "file_extension": ".py",
   "mimetype": "text/x-python",
   "name": "python",
   "nbconvert_exporter": "python",
   "pygments_lexer": "ipython3",
   "version": "3.9.12"
  }
 },
 "nbformat": 4,
 "nbformat_minor": 5
}
