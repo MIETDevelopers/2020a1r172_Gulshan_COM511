{
 "cells": [
  {
   "cell_type": "markdown",
   "id": "58eb4ef2",
   "metadata": {},
   "source": [
    "# Activity 2"
   ]
  },
  {
   "cell_type": "markdown",
   "id": "4d89d9d9",
   "metadata": {},
   "source": [
    "#### Write a program to illustrate iterations over the list and dictionary"
   ]
  },
  {
   "cell_type": "markdown",
   "id": "ebb2d1c0",
   "metadata": {},
   "source": [
    "## List :"
   ]
  },
  {
   "cell_type": "markdown",
   "id": "47c37690",
   "metadata": {},
   "source": [
    "### Method #1: Using For Loop"
   ]
  },
  {
   "cell_type": "code",
   "execution_count": 32,
   "id": "c3bef6f4",
   "metadata": {},
   "outputs": [
    {
     "name": "stdout",
     "output_type": "stream",
     "text": [
      "1\n",
      "2\n",
      "3\n",
      "4\n",
      "5\n"
     ]
    }
   ],
   "source": [
    "list=[1,2,3,4,5]\n",
    "for i in list:\n",
    "    print(i)"
   ]
  },
  {
   "cell_type": "markdown",
   "id": "f24e1f85",
   "metadata": {},
   "source": [
    "### Method #2: For Loop and range()"
   ]
  },
  {
   "cell_type": "code",
   "execution_count": 33,
   "id": "5e72d19d",
   "metadata": {},
   "outputs": [
    {
     "name": "stdout",
     "output_type": "stream",
     "text": [
      "1\n",
      "4\n",
      "3\n",
      "9\n",
      "5\n"
     ]
    }
   ],
   "source": [
    "list = [1,4,3,9,5]\n",
    "length=len(list)\n",
    "for i in range(length):\n",
    "    print(list[i])"
   ]
  },
  {
   "cell_type": "markdown",
   "id": "2b18c797",
   "metadata": {},
   "source": [
    "### Method #3: Using while Loop"
   ]
  },
  {
   "cell_type": "code",
   "execution_count": 34,
   "id": "5805a890",
   "metadata": {},
   "outputs": [
    {
     "name": "stdout",
     "output_type": "stream",
     "text": [
      "1\n",
      "3\n",
      "5\n",
      "7\n",
      "9\n",
      "11\n",
      "13\n"
     ]
    }
   ],
   "source": [
    "list=[1,3,5,7,9,11,13]\n",
    "length=len(list)\n",
    "i=0\n",
    "while i<length:\n",
    "    print(list[i])\n",
    "    i += 1"
   ]
  },
  {
   "cell_type": "markdown",
   "id": "a36608de",
   "metadata": {},
   "source": [
    "### Method #4: Using list comprehension"
   ]
  },
  {
   "cell_type": "code",
   "execution_count": 35,
   "id": "2c13a978",
   "metadata": {
    "scrolled": true
   },
   "outputs": [
    {
     "name": "stdout",
     "output_type": "stream",
     "text": [
      "1\n",
      "3\n",
      "5\n",
      "7\n",
      "9\n",
      "11\n"
     ]
    },
    {
     "data": {
      "text/plain": [
       "[None, None, None, None, None, None]"
      ]
     },
     "execution_count": 35,
     "metadata": {},
     "output_type": "execute_result"
    }
   ],
   "source": [
    "list=[1,3,5,7,9,11]\n",
    "[print(i) for i in list]"
   ]
  },
  {
   "cell_type": "markdown",
   "id": "8c2f5541",
   "metadata": {},
   "source": [
    "## Dictionary"
   ]
  },
  {
   "cell_type": "markdown",
   "id": "a19de45f",
   "metadata": {},
   "source": [
    "### Example 1: Access Key using the build .keys()"
   ]
  },
  {
   "cell_type": "code",
   "execution_count": 36,
   "id": "7b11580b",
   "metadata": {},
   "outputs": [
    {
     "name": "stdout",
     "output_type": "stream",
     "text": [
      "dict_keys(['Gujarat', 'Maharashtra', 'Rajasthan', 'Bihar'])\n"
     ]
    }
   ],
   "source": [
    "statesAndCapitals = {\n",
    "    'Gujarat': 'Gandinagar',\n",
    "    'Maharashtra': 'Mumbai',\n",
    "    'Rajasthan': 'Jaipur',\n",
    "    'Bihar': 'Patna'\n",
    "}\n",
    "\n",
    "keys = statesAndCapitals.keys()\n",
    "print(keys)"
   ]
  },
  {
   "cell_type": "markdown",
   "id": "359b33e8",
   "metadata": {},
   "source": [
    "### Example 2: Access key without using a key()"
   ]
  },
  {
   "cell_type": "code",
   "execution_count": 37,
   "id": "70c0e925",
   "metadata": {},
   "outputs": [
    {
     "name": "stdout",
     "output_type": "stream",
     "text": [
      "List of given states:\n",
      "\n",
      "Gujarat\n",
      "Maharashtra\n",
      "Rajasthan\n",
      "Bihar\n"
     ]
    }
   ],
   "source": [
    "statesAndCapitals = {\n",
    "    'Gujarat': 'Gandinagar',\n",
    "    'Maharashtra': 'Mumbai',\n",
    "    'Rajasthan': 'Jaipur',\n",
    "    'Bihar': 'Patna'\n",
    "}\n",
    "\n",
    "print('List of given states:\\n')\n",
    "for state in statesAndCapitals:\n",
    "    print(state)"
   ]
  },
  {
   "cell_type": "markdown",
   "id": "93b77c89",
   "metadata": {},
   "source": [
    "### Example 3: Iterate through all values using .values()"
   ]
  },
  {
   "cell_type": "code",
   "execution_count": 38,
   "id": "b45572ed",
   "metadata": {},
   "outputs": [
    {
     "name": "stdout",
     "output_type": "stream",
     "text": [
      "List of given capitals:\n",
      "\n",
      "Gujarat\n",
      "Maharashtra\n",
      "Rajasthan\n",
      "Bihar\n"
     ]
    }
   ],
   "source": [
    "statesAndCapitals = {\n",
    "    'Gujarat': 'Gandinagar',\n",
    "    'Maharashtra': 'Mumbai',\n",
    "    'Rajasthan': 'Jaipur',\n",
    "    'Bihar': 'Patna'\n",
    "}\n",
    "\n",
    "print('List of given capitals:\\n')\n",
    "for capital in statesAndCapitals:\n",
    "    print(capital)"
   ]
  },
  {
   "cell_type": "markdown",
   "id": "7ff44972",
   "metadata": {},
   "source": [
    "### Example 4: Iterate through all key, and value pairs using items()"
   ]
  },
  {
   "cell_type": "code",
   "execution_count": 39,
   "id": "b0058fe1",
   "metadata": {},
   "outputs": [
    {
     "name": "stdout",
     "output_type": "stream",
     "text": [
      "List of given states adn their capitals:\n",
      "\n",
      "Gujarat : Gandinagar\n",
      "Maharashtra : Mumbai\n",
      "Rajasthan : Jaipur\n",
      "Bihar : Patna\n"
     ]
    }
   ],
   "source": [
    "statesAndCapitals = {\n",
    "    'Gujarat': 'Gandinagar',\n",
    "    'Maharashtra': 'Mumbai',\n",
    "    'Rajasthan': 'Jaipur',\n",
    "    'Bihar': 'Patna'\n",
    "}\n",
    "print('List of given states adn their capitals:\\n')\n",
    "for state, capital in statesAndCapitals.items():\n",
    "    print(state,':',capital)"
   ]
  },
  {
   "cell_type": "markdown",
   "id": "826b06da",
   "metadata": {},
   "source": [
    "### Example 5: Access both key and value without using items()"
   ]
  },
  {
   "cell_type": "code",
   "execution_count": 40,
   "id": "7d023348",
   "metadata": {},
   "outputs": [
    {
     "name": "stdout",
     "output_type": "stream",
     "text": [
      "Gujarat -> Gandinagar\n",
      "Maharashtra -> Mumbai\n",
      "Rajasthan -> Jaipur\n",
      "Bihar -> Patna\n"
     ]
    }
   ],
   "source": [
    "statesAndCapitals = {\n",
    "    'Gujarat': 'Gandinagar',\n",
    "    'Maharashtra': 'Mumbai',\n",
    "    'Rajasthan': 'Jaipur',\n",
    "    'Bihar': 'Patna'\n",
    "}\n",
    "for i in statesAndCapitals:\n",
    "    print(i,'->',statesAndCapitals[i])"
   ]
  },
  {
   "cell_type": "markdown",
   "id": "6b10b2df",
   "metadata": {},
   "source": [
    "### Example 6: Print items in Key-Value in pair"
   ]
  },
  {
   "cell_type": "code",
   "execution_count": 41,
   "id": "7c79b02f",
   "metadata": {},
   "outputs": [
    {
     "name": "stdout",
     "output_type": "stream",
     "text": [
      "dict_items([('Gujarat', 'Gandinagar'), ('Maharashtra', 'Mumbai'), ('Rajasthan', 'Jaipur'), ('Bihar', 'Patna')])\n"
     ]
    }
   ],
   "source": [
    "statesAndCapitals = {\n",
    "    'Gujarat': 'Gandinagar',\n",
    "    'Maharashtra': 'Mumbai',\n",
    "    'Rajasthan': 'Jaipur',\n",
    "    'Bihar': 'Patna'\n",
    "}\n",
    "keys = statesAndCapitals.items()\n",
    "print(keys)"
   ]
  }
 ],
 "metadata": {
  "kernelspec": {
   "display_name": "Python 3.10.6 64-bit (microsoft store)",
   "language": "python",
   "name": "python3"
  },
  "language_info": {
   "codemirror_mode": {
    "name": "ipython",
    "version": 3
   },
   "file_extension": ".py",
   "mimetype": "text/x-python",
   "name": "python",
   "nbconvert_exporter": "python",
   "pygments_lexer": "ipython3",
   "version": "3.10.6"
  },
  "vscode": {
   "interpreter": {
    "hash": "63c4bce666f4525e7fc08fed3c70c5843d9642e8580b5cb9802d8f1792020792"
   }
  }
 },
 "nbformat": 4,
 "nbformat_minor": 5
}
